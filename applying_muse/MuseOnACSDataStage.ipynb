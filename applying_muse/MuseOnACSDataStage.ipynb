{
 "cells": [
  {
   "cell_type": "code",
   "execution_count": null,
   "id": "4b14d0a7",
   "metadata": {
    "scrolled": true
   },
   "outputs": [
    {
     "name": "stdout",
     "output_type": "stream",
     "text": [
      "delta program: [('synthetic_data_version_1', 'SELECT synthetic_data_version_11.* FROM synthetic_data_version_1 AS synthetic_data_version_11, synthetic_data_version_1 AS synthetic_data_version_12 WHERE synthetic_data_version_11.ST = synthetic_data_version_12.ST AND synthetic_data_version_11.REGION <> synthetic_data_version_12.REGION')]\n"
     ]
    }
   ],
   "source": [
    "import sys\n",
    "sys.path.append('On_Multiple_Semantics_for_Declarative_Database_Repairs/')\n",
    "import On_Multiple_Semantics_for_Declarative_Database_Repairs\n",
    "\n",
    "from database_generator.dba import DatabaseEngine\n",
    "from Semantics.end_sem import EndSemantics\n",
    "from Semantics.stage_sem import StageSemantics\n",
    "from Semantics.step_sem import StepSemantics\n",
    "from Semantics.independent_sem import IndependentSemantics\n",
    "\n",
    "# specify the schema\n",
    "mas_schema = {\"synthetic_data_version_1\": ('RAC1P', 'SEX', 'REGION', 'PINCP', 'ST', 'COW', 'CIT', 'NATIVITY', 'MSP', 'SCHL', 'DIS','MIL')\n",
    "              }\n",
    "\n",
    "\n",
    "def read_rules(rule_file):\n",
    "    \"\"\"read programs from txt file\"\"\"\n",
    "    all_programs = []\n",
    "    with open(rule_file) as f:\n",
    "        rules = []\n",
    "        for line in f:\n",
    "            if line.strip():\n",
    "                tbl, r = line.split(\"|\")\n",
    "                rules.append((tbl, r[:-2]))\n",
    "            else:\n",
    "                all_programs.append([r for r in rules])\n",
    "                rules = []\n",
    "        all_programs.append(rules)\n",
    "    return all_programs\n",
    "\n",
    "# load delta programs\n",
    "programs = read_rules(\"On_Multiple_Semantics_for_Declarative_Database_Repairs/../delta_program.txt\")\n",
    "\n",
    "# start the database\n",
    "db = DatabaseEngine(\"cr\")\n",
    "\n",
    "tbl_names = [\"synthetic_data_version_1\"]\n",
    "subfolder = \"/datasets/muse/\"\n",
    "\n",
    "def database_reset(db):\n",
    "    \"\"\"reset the database\"\"\"\n",
    "    res = db.execute_query(\"select current_database();\")\n",
    "    db_name = res[0][0]\n",
    "    db.delete_tables(tbl_names)\n",
    "    # db.close_connection()\n",
    "    db = DatabaseEngine(db_name)\n",
    "    db.load_database_tables(tbl_names)\n",
    "\n",
    "# choose a delta program from the programs file\n",
    "rules = programs[0]\n",
    "print(\"delta program:\", rules)\n",
    "\n",
    "# reset the database between runs\n",
    "database_reset(db)\n",
    "\n",
    "stage_sem = StageSemantics(db, rules, tbl_names)\n",
    "stage_semantics_result = stage_sem.find_mss()\n",
    "print(\"result for stage semantics:\", stage_semantics_result)\n"
   ]
  },
  {
   "cell_type": "code",
   "execution_count": null,
   "id": "9e7f92f4",
   "metadata": {},
   "outputs": [],
   "source": [
    "len(stage_semantics_result)"
   ]
  }
 ],
 "metadata": {
  "kernelspec": {
   "display_name": "Python 3 (ipykernel)",
   "language": "python",
   "name": "python3"
  },
  "language_info": {
   "codemirror_mode": {
    "name": "ipython",
    "version": 3
   },
   "file_extension": ".py",
   "mimetype": "text/x-python",
   "name": "python",
   "nbconvert_exporter": "python",
   "pygments_lexer": "ipython3",
   "version": "3.8.11"
  }
 },
 "nbformat": 4,
 "nbformat_minor": 5
}
