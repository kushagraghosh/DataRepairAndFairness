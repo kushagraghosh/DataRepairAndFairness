{
 "cells": [
  {
   "cell_type": "code",
   "execution_count": 3,
   "id": "4b14d0a7",
   "metadata": {
    "scrolled": false
   },
   "outputs": [
    {
     "name": "stdout",
     "output_type": "stream",
     "text": [
      "delta program: [('original_census', 'SELECT original_census1.* FROM original_census AS original_census1, original_census AS original_census2 WHERE original_census1.ST = original_census2.ST AND original_census1.REGION <> original_census2.REGION')]\n"
     ]
    },
    {
     "ename": "Z3Exception",
     "evalue": "b'(error \"line 4 column 16: invalid function application, arguments missing\")\\n(error \"line 5 column 16: invalid function application, arguments missing\")\\n'",
     "output_type": "error",
     "traceback": [
      "\u001b[0;31m---------------------------------------------------------------------------\u001b[0m",
      "\u001b[0;31mZ3Exception\u001b[0m                               Traceback (most recent call last)",
      "\u001b[0;32m<ipython-input-3-4a33e2de55fc>\u001b[0m in \u001b[0;36m<module>\u001b[0;34m\u001b[0m\n\u001b[1;32m     87\u001b[0m \u001b[0;34m\u001b[0m\u001b[0m\n\u001b[1;32m     88\u001b[0m \u001b[0mind_sem\u001b[0m \u001b[0;34m=\u001b[0m \u001b[0mIndependentSemantics\u001b[0m\u001b[0;34m(\u001b[0m\u001b[0mdb\u001b[0m\u001b[0;34m,\u001b[0m \u001b[0mrules\u001b[0m\u001b[0;34m,\u001b[0m \u001b[0mtbl_names\u001b[0m\u001b[0;34m)\u001b[0m\u001b[0;34m\u001b[0m\u001b[0;34m\u001b[0m\u001b[0m\n\u001b[0;32m---> 89\u001b[0;31m \u001b[0mind_semantics_result\u001b[0m \u001b[0;34m=\u001b[0m \u001b[0mind_sem\u001b[0m\u001b[0;34m.\u001b[0m\u001b[0mfind_mss\u001b[0m\u001b[0;34m(\u001b[0m\u001b[0mmas_schema\u001b[0m\u001b[0;34m)\u001b[0m\u001b[0;34m\u001b[0m\u001b[0;34m\u001b[0m\u001b[0m\n\u001b[0m\u001b[1;32m     90\u001b[0m \u001b[0mprint\u001b[0m\u001b[0;34m(\u001b[0m\u001b[0;34m\"result for independent semantics:\"\u001b[0m\u001b[0;34m,\u001b[0m \u001b[0mind_semantics_result\u001b[0m\u001b[0;34m)\u001b[0m\u001b[0;34m\u001b[0m\u001b[0;34m\u001b[0m\u001b[0m\n",
      "\u001b[0;32m~/Desktop/DataRepairAndFairness/On_Multiple_Semantics_for_Declarative_Database_Repairs/Semantics/independent_sem.py\u001b[0m in \u001b[0;36mfind_mss\u001b[0;34m(self, schema, suffix)\u001b[0m\n\u001b[1;32m     45\u001b[0m \u001b[0;34m\u001b[0m\u001b[0m\n\u001b[1;32m     46\u001b[0m         \u001b[0;31m# find minimum satisfying assignment\u001b[0m\u001b[0;34m\u001b[0m\u001b[0;34m\u001b[0m\u001b[0;34m\u001b[0m\u001b[0m\n\u001b[0;32m---> 47\u001b[0;31m         \u001b[0msol\u001b[0m\u001b[0;34m,\u001b[0m \u001b[0msize\u001b[0m \u001b[0;34m=\u001b[0m \u001b[0mself\u001b[0m\u001b[0;34m.\u001b[0m\u001b[0msolve_boolean_formula_with_z3_smt2\u001b[0m\u001b[0;34m(\u001b[0m\u001b[0mbf\u001b[0m\u001b[0;34m)\u001b[0m\u001b[0;34m\u001b[0m\u001b[0;34m\u001b[0m\u001b[0m\n\u001b[0m\u001b[1;32m     48\u001b[0m \u001b[0;34m\u001b[0m\u001b[0m\n\u001b[1;32m     49\u001b[0m         \u001b[0;31m# process solution to mss\u001b[0m\u001b[0;34m\u001b[0m\u001b[0;34m\u001b[0m\u001b[0;34m\u001b[0m\u001b[0m\n",
      "\u001b[0;32m~/Desktop/DataRepairAndFairness/On_Multiple_Semantics_for_Declarative_Database_Repairs/Semantics/independent_sem.py\u001b[0m in \u001b[0;36msolve_boolean_formula_with_z3_smt2\u001b[0;34m(self, bf)\u001b[0m\n\u001b[1;32m    257\u001b[0m         \u001b[0massert_str\u001b[0m \u001b[0;34m+=\u001b[0m \u001b[0;34m'(assert (= s {}))\\n(assert (>= s 0))'\u001b[0m\u001b[0;34m.\u001b[0m\u001b[0mformat\u001b[0m\u001b[0;34m(\u001b[0m\u001b[0msize_str\u001b[0m\u001b[0;34m)\u001b[0m  \u001b[0;31m# changed from (> s 0)\u001b[0m\u001b[0;34m\u001b[0m\u001b[0;34m\u001b[0m\u001b[0m\n\u001b[1;32m    258\u001b[0m \u001b[0;34m\u001b[0m\u001b[0m\n\u001b[0;32m--> 259\u001b[0;31m         \u001b[0mz3_bf\u001b[0m \u001b[0;34m=\u001b[0m \u001b[0mparse_smt2_string\u001b[0m\u001b[0;34m(\u001b[0m\u001b[0mdeclaration_str\u001b[0m \u001b[0;34m+\u001b[0m \u001b[0;34m'\\n'\u001b[0m \u001b[0;34m+\u001b[0m \u001b[0massert_str\u001b[0m\u001b[0;34m)\u001b[0m\u001b[0;34m\u001b[0m\u001b[0;34m\u001b[0m\u001b[0m\n\u001b[0m\u001b[1;32m    260\u001b[0m         \u001b[0mopt\u001b[0m \u001b[0;34m=\u001b[0m \u001b[0mOptimize\u001b[0m\u001b[0;34m(\u001b[0m\u001b[0;34m)\u001b[0m\u001b[0;34m\u001b[0m\u001b[0;34m\u001b[0m\u001b[0m\n\u001b[1;32m    261\u001b[0m         \u001b[0mopt\u001b[0m\u001b[0;34m.\u001b[0m\u001b[0madd\u001b[0m\u001b[0;34m(\u001b[0m\u001b[0mz3_bf\u001b[0m\u001b[0;34m)\u001b[0m\u001b[0;34m\u001b[0m\u001b[0;34m\u001b[0m\u001b[0m\n",
      "\u001b[0;32m~/opt/anaconda3/envs/hc36/lib/python3.6/site-packages/z3/z3.py\u001b[0m in \u001b[0;36mparse_smt2_string\u001b[0;34m(s, sorts, decls, ctx)\u001b[0m\n\u001b[1;32m   8622\u001b[0m     \u001b[0mssz\u001b[0m\u001b[0;34m,\u001b[0m \u001b[0msnames\u001b[0m\u001b[0;34m,\u001b[0m \u001b[0mssorts\u001b[0m \u001b[0;34m=\u001b[0m \u001b[0m_dict2sarray\u001b[0m\u001b[0;34m(\u001b[0m\u001b[0msorts\u001b[0m\u001b[0;34m,\u001b[0m \u001b[0mctx\u001b[0m\u001b[0;34m)\u001b[0m\u001b[0;34m\u001b[0m\u001b[0;34m\u001b[0m\u001b[0m\n\u001b[1;32m   8623\u001b[0m     \u001b[0mdsz\u001b[0m\u001b[0;34m,\u001b[0m \u001b[0mdnames\u001b[0m\u001b[0;34m,\u001b[0m \u001b[0mddecls\u001b[0m \u001b[0;34m=\u001b[0m \u001b[0m_dict2darray\u001b[0m\u001b[0;34m(\u001b[0m\u001b[0mdecls\u001b[0m\u001b[0;34m,\u001b[0m \u001b[0mctx\u001b[0m\u001b[0;34m)\u001b[0m\u001b[0;34m\u001b[0m\u001b[0;34m\u001b[0m\u001b[0m\n\u001b[0;32m-> 8624\u001b[0;31m     \u001b[0;32mreturn\u001b[0m \u001b[0mAstVector\u001b[0m\u001b[0;34m(\u001b[0m\u001b[0mZ3_parse_smtlib2_string\u001b[0m\u001b[0;34m(\u001b[0m\u001b[0mctx\u001b[0m\u001b[0;34m.\u001b[0m\u001b[0mref\u001b[0m\u001b[0;34m(\u001b[0m\u001b[0;34m)\u001b[0m\u001b[0;34m,\u001b[0m \u001b[0ms\u001b[0m\u001b[0;34m,\u001b[0m \u001b[0mssz\u001b[0m\u001b[0;34m,\u001b[0m \u001b[0msnames\u001b[0m\u001b[0;34m,\u001b[0m \u001b[0mssorts\u001b[0m\u001b[0;34m,\u001b[0m \u001b[0mdsz\u001b[0m\u001b[0;34m,\u001b[0m \u001b[0mdnames\u001b[0m\u001b[0;34m,\u001b[0m \u001b[0mddecls\u001b[0m\u001b[0;34m)\u001b[0m\u001b[0;34m,\u001b[0m \u001b[0mctx\u001b[0m\u001b[0;34m)\u001b[0m\u001b[0;34m\u001b[0m\u001b[0;34m\u001b[0m\u001b[0m\n\u001b[0m\u001b[1;32m   8625\u001b[0m \u001b[0;34m\u001b[0m\u001b[0m\n\u001b[1;32m   8626\u001b[0m \u001b[0;32mdef\u001b[0m \u001b[0mparse_smt2_file\u001b[0m\u001b[0;34m(\u001b[0m\u001b[0mf\u001b[0m\u001b[0;34m,\u001b[0m \u001b[0msorts\u001b[0m\u001b[0;34m=\u001b[0m\u001b[0;34m{\u001b[0m\u001b[0;34m}\u001b[0m\u001b[0;34m,\u001b[0m \u001b[0mdecls\u001b[0m\u001b[0;34m=\u001b[0m\u001b[0;34m{\u001b[0m\u001b[0;34m}\u001b[0m\u001b[0;34m,\u001b[0m \u001b[0mctx\u001b[0m\u001b[0;34m=\u001b[0m\u001b[0;32mNone\u001b[0m\u001b[0;34m)\u001b[0m\u001b[0;34m:\u001b[0m\u001b[0;34m\u001b[0m\u001b[0;34m\u001b[0m\u001b[0m\n",
      "\u001b[0;32m~/opt/anaconda3/envs/hc36/lib/python3.6/site-packages/z3/z3core.py\u001b[0m in \u001b[0;36mZ3_parse_smtlib2_string\u001b[0;34m(a0, a1, a2, a3, a4, a5, a6, a7, _elems)\u001b[0m\n\u001b[1;32m   3219\u001b[0m \u001b[0;32mdef\u001b[0m \u001b[0mZ3_parse_smtlib2_string\u001b[0m\u001b[0;34m(\u001b[0m\u001b[0ma0\u001b[0m\u001b[0;34m,\u001b[0m \u001b[0ma1\u001b[0m\u001b[0;34m,\u001b[0m \u001b[0ma2\u001b[0m\u001b[0;34m,\u001b[0m \u001b[0ma3\u001b[0m\u001b[0;34m,\u001b[0m \u001b[0ma4\u001b[0m\u001b[0;34m,\u001b[0m \u001b[0ma5\u001b[0m\u001b[0;34m,\u001b[0m \u001b[0ma6\u001b[0m\u001b[0;34m,\u001b[0m \u001b[0ma7\u001b[0m\u001b[0;34m,\u001b[0m \u001b[0m_elems\u001b[0m\u001b[0;34m=\u001b[0m\u001b[0mElementaries\u001b[0m\u001b[0;34m(\u001b[0m\u001b[0m_lib\u001b[0m\u001b[0;34m.\u001b[0m\u001b[0mZ3_parse_smtlib2_string\u001b[0m\u001b[0;34m)\u001b[0m\u001b[0;34m)\u001b[0m\u001b[0;34m:\u001b[0m\u001b[0;34m\u001b[0m\u001b[0;34m\u001b[0m\u001b[0m\n\u001b[1;32m   3220\u001b[0m   \u001b[0mr\u001b[0m \u001b[0;34m=\u001b[0m \u001b[0m_elems\u001b[0m\u001b[0;34m.\u001b[0m\u001b[0mf\u001b[0m\u001b[0;34m(\u001b[0m\u001b[0ma0\u001b[0m\u001b[0;34m,\u001b[0m \u001b[0m_str_to_bytes\u001b[0m\u001b[0;34m(\u001b[0m\u001b[0ma1\u001b[0m\u001b[0;34m)\u001b[0m\u001b[0;34m,\u001b[0m \u001b[0ma2\u001b[0m\u001b[0;34m,\u001b[0m \u001b[0ma3\u001b[0m\u001b[0;34m,\u001b[0m \u001b[0ma4\u001b[0m\u001b[0;34m,\u001b[0m \u001b[0ma5\u001b[0m\u001b[0;34m,\u001b[0m \u001b[0ma6\u001b[0m\u001b[0;34m,\u001b[0m \u001b[0ma7\u001b[0m\u001b[0;34m)\u001b[0m\u001b[0;34m\u001b[0m\u001b[0;34m\u001b[0m\u001b[0m\n\u001b[0;32m-> 3221\u001b[0;31m   \u001b[0m_elems\u001b[0m\u001b[0;34m.\u001b[0m\u001b[0mCheck\u001b[0m\u001b[0;34m(\u001b[0m\u001b[0ma0\u001b[0m\u001b[0;34m)\u001b[0m\u001b[0;34m\u001b[0m\u001b[0;34m\u001b[0m\u001b[0m\n\u001b[0m\u001b[1;32m   3222\u001b[0m   \u001b[0;32mreturn\u001b[0m \u001b[0mr\u001b[0m\u001b[0;34m\u001b[0m\u001b[0;34m\u001b[0m\u001b[0m\n\u001b[1;32m   3223\u001b[0m \u001b[0;34m\u001b[0m\u001b[0m\n",
      "\u001b[0;32m~/opt/anaconda3/envs/hc36/lib/python3.6/site-packages/z3/z3core.py\u001b[0m in \u001b[0;36mCheck\u001b[0;34m(self, ctx)\u001b[0m\n\u001b[1;32m   1383\u001b[0m     \u001b[0merr\u001b[0m \u001b[0;34m=\u001b[0m \u001b[0mself\u001b[0m\u001b[0;34m.\u001b[0m\u001b[0mget_error_code\u001b[0m\u001b[0;34m(\u001b[0m\u001b[0mctx\u001b[0m\u001b[0;34m)\u001b[0m\u001b[0;34m\u001b[0m\u001b[0;34m\u001b[0m\u001b[0m\n\u001b[1;32m   1384\u001b[0m     \u001b[0;32mif\u001b[0m \u001b[0merr\u001b[0m \u001b[0;34m!=\u001b[0m \u001b[0mself\u001b[0m\u001b[0;34m.\u001b[0m\u001b[0mOK\u001b[0m\u001b[0;34m:\u001b[0m\u001b[0;34m\u001b[0m\u001b[0;34m\u001b[0m\u001b[0m\n\u001b[0;32m-> 1385\u001b[0;31m         \u001b[0;32mraise\u001b[0m \u001b[0mself\u001b[0m\u001b[0;34m.\u001b[0m\u001b[0mException\u001b[0m\u001b[0;34m(\u001b[0m\u001b[0mself\u001b[0m\u001b[0;34m.\u001b[0m\u001b[0mget_error_message\u001b[0m\u001b[0;34m(\u001b[0m\u001b[0mctx\u001b[0m\u001b[0;34m,\u001b[0m \u001b[0merr\u001b[0m\u001b[0;34m)\u001b[0m\u001b[0;34m)\u001b[0m\u001b[0;34m\u001b[0m\u001b[0;34m\u001b[0m\u001b[0m\n\u001b[0m\u001b[1;32m   1386\u001b[0m \u001b[0;34m\u001b[0m\u001b[0m\n\u001b[1;32m   1387\u001b[0m \u001b[0;32mdef\u001b[0m \u001b[0mZ3_set_error_handler\u001b[0m\u001b[0;34m(\u001b[0m\u001b[0mctx\u001b[0m\u001b[0;34m,\u001b[0m \u001b[0mhndlr\u001b[0m\u001b[0;34m,\u001b[0m \u001b[0m_elems\u001b[0m\u001b[0;34m=\u001b[0m\u001b[0mElementaries\u001b[0m\u001b[0;34m(\u001b[0m\u001b[0m_lib\u001b[0m\u001b[0;34m.\u001b[0m\u001b[0mZ3_set_error_handler\u001b[0m\u001b[0;34m)\u001b[0m\u001b[0;34m)\u001b[0m\u001b[0;34m:\u001b[0m\u001b[0;34m\u001b[0m\u001b[0;34m\u001b[0m\u001b[0m\n",
      "\u001b[0;31mZ3Exception\u001b[0m: b'(error \"line 4 column 16: invalid function application, arguments missing\")\\n(error \"line 5 column 16: invalid function application, arguments missing\")\\n'"
     ]
    }
   ],
   "source": [
    "import sys\n",
    "sys.path.append('On_Multiple_Semantics_for_Declarative_Database_Repairs/')\n",
    "import On_Multiple_Semantics_for_Declarative_Database_Repairs\n",
    "\n",
    "from database_generator.dba import DatabaseEngine\n",
    "from Semantics.end_sem import EndSemantics\n",
    "from Semantics.stage_sem import StageSemantics\n",
    "from Semantics.step_sem import StepSemantics\n",
    "from Semantics.independent_sem import IndependentSemantics\n",
    "\n",
    "# specify the schema\n",
    "mas_schema = {\"original_census\": ('RAC1P',\n",
    "                                  'SEX',\n",
    "                                  'REGION',\n",
    "                                  'PINCP',\n",
    "                                  'ST',\n",
    "                                  'COW',\n",
    "                                  'CIT',\n",
    "                                  'NATIVITY',\n",
    "                                  'MSP',\n",
    "                                  'SCHL',\n",
    "                                  'DIS',\n",
    "                                  'MIL')\n",
    "              }\n",
    "\n",
    "\n",
    "def read_rules(rule_file):\n",
    "    \"\"\"read programs from txt file\"\"\"\n",
    "    all_programs = []\n",
    "    with open(rule_file) as f:\n",
    "        rules = []\n",
    "        for line in f:\n",
    "            if line.strip():\n",
    "                tbl, r = line.split(\"|\")\n",
    "                rules.append((tbl, r[:-2]))\n",
    "            else:\n",
    "                all_programs.append([r for r in rules])\n",
    "                rules = []\n",
    "        all_programs.append(rules)\n",
    "    return all_programs\n",
    "\n",
    "# load delta programs\n",
    "programs = read_rules(\"On_Multiple_Semantics_for_Declarative_Database_Repairs/../delta_program.txt\")\n",
    "\n",
    "# start the database\n",
    "db = DatabaseEngine(\"cr\")\n",
    "\n",
    "tbl_names = [\"original_census\"]\n",
    "subfolder = \"/\"\n",
    "\n",
    "def database_reset(db):\n",
    "    \"\"\"reset the database\"\"\"\n",
    "    res = db.execute_query(\"select current_database();\")\n",
    "    db_name = res[0][0]\n",
    "    db.delete_tables(tbl_names)\n",
    "    # db.close_connection()\n",
    "    db = DatabaseEngine(db_name)\n",
    "    db.load_database_tables(tbl_names)\n",
    "\n",
    "# choose a delta program from the programs file\n",
    "rules = programs[0]\n",
    "print(\"delta program:\", rules)\n",
    "\n",
    "# # reset the database between runs\n",
    "# database_reset(db)\n",
    "\n",
    "# end_sem = EndSemantics(db, rules, tbl_names)\n",
    "# end_semantics_result = end_sem.find_mss()\n",
    "# print(\"result for end semantics:\", end_semantics_result)\n",
    "\n",
    "# # reset the database between runs\n",
    "# database_reset(db)\n",
    "\n",
    "# stage_sem = StageSemantics(db, rules, tbl_names)\n",
    "# stage_semantics_result = stage_sem.find_mss()\n",
    "# print(\"result for stage semantics:\", stage_semantics_result)\n",
    "\n",
    "# # reset the database between runs\n",
    "# database_reset(db)\n",
    "\n",
    "# step_sem = StepSemantics(db, rules, tbl_names)\n",
    "# step_semantics_result = step_sem.find_mss(mas_schema)\n",
    "# print(\"result for step semantics:\", step_semantics_result)\n",
    "\n",
    "# reset the database between runs\n",
    "database_reset(db)\n",
    "\n",
    "ind_sem = IndependentSemantics(db, rules, tbl_names)\n",
    "ind_semantics_result = ind_sem.find_mss(mas_schema)\n",
    "print(\"result for independent semantics:\", ind_semantics_result)\n"
   ]
  },
  {
   "cell_type": "code",
   "execution_count": null,
   "id": "dd18dc0c",
   "metadata": {},
   "outputs": [],
   "source": []
  }
 ],
 "metadata": {
  "kernelspec": {
   "display_name": "hc36",
   "language": "python",
   "name": "hc36"
  },
  "language_info": {
   "codemirror_mode": {
    "name": "ipython",
    "version": 3
   },
   "file_extension": ".py",
   "mimetype": "text/x-python",
   "name": "python",
   "nbconvert_exporter": "python",
   "pygments_lexer": "ipython3",
   "version": "3.6.13"
  }
 },
 "nbformat": 4,
 "nbformat_minor": 5
}
