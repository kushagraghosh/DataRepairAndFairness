{
 "cells": [
  {
   "cell_type": "code",
   "execution_count": 1,
   "id": "4b14d0a7",
   "metadata": {
    "scrolled": false
   },
   "outputs": [
    {
     "name": "stdout",
     "output_type": "stream",
     "text": [
      "delta program: [('synthetic_data_version_1', 'SELECT synthetic_data_version_11.* FROM synthetic_data_version_1 AS synthetic_data_version_11, synthetic_data_version_1 AS synthetic_data_version_12 WHERE synthetic_data_version_11.ST = synthetic_data_version_12.ST AND synthetic_data_version_11.REGION <> synthetic_data_version_12.REGION')]\n"
     ]
    },
    {
     "ename": "KeyboardInterrupt",
     "evalue": "",
     "output_type": "error",
     "traceback": [
      "\u001b[0;31m---------------------------------------------------------------------------\u001b[0m",
      "\u001b[0;31mKeyboardInterrupt\u001b[0m                         Traceback (most recent call last)",
      "\u001b[0;32m<ipython-input-1-e0396c1b6567>\u001b[0m in \u001b[0;36m<module>\u001b[0;34m\u001b[0m\n\u001b[1;32m     66\u001b[0m \u001b[0;34m\u001b[0m\u001b[0m\n\u001b[1;32m     67\u001b[0m \u001b[0mend_sem\u001b[0m \u001b[0;34m=\u001b[0m \u001b[0mEndSemantics\u001b[0m\u001b[0;34m(\u001b[0m\u001b[0mdb\u001b[0m\u001b[0;34m,\u001b[0m \u001b[0mrules\u001b[0m\u001b[0;34m,\u001b[0m \u001b[0mtbl_names\u001b[0m\u001b[0;34m)\u001b[0m\u001b[0;34m\u001b[0m\u001b[0;34m\u001b[0m\u001b[0m\n\u001b[0;32m---> 68\u001b[0;31m \u001b[0mend_semantics_result\u001b[0m \u001b[0;34m=\u001b[0m \u001b[0mend_sem\u001b[0m\u001b[0;34m.\u001b[0m\u001b[0mfind_mss\u001b[0m\u001b[0;34m(\u001b[0m\u001b[0;34m)\u001b[0m\u001b[0;34m\u001b[0m\u001b[0;34m\u001b[0m\u001b[0m\n\u001b[0m\u001b[1;32m     69\u001b[0m \u001b[0mprint\u001b[0m\u001b[0;34m(\u001b[0m\u001b[0;34m\"result for end semantics:\"\u001b[0m\u001b[0;34m,\u001b[0m \u001b[0mend_semantics_result\u001b[0m\u001b[0;34m)\u001b[0m\u001b[0;34m\u001b[0m\u001b[0;34m\u001b[0m\u001b[0m\n\u001b[1;32m     70\u001b[0m \u001b[0;34m\u001b[0m\u001b[0m\n",
      "\u001b[0;32m~/Desktop/DataRepairAndFairness/On_Multiple_Semantics_for_Declarative_Database_Repairs/Semantics/end_sem.py\u001b[0m in \u001b[0;36mfind_mss\u001b[0;34m(self)\u001b[0m\n\u001b[1;32m     19\u001b[0m                 \u001b[0mresults\u001b[0m \u001b[0;34m=\u001b[0m \u001b[0mself\u001b[0m\u001b[0;34m.\u001b[0m\u001b[0mdb\u001b[0m\u001b[0;34m.\u001b[0m\u001b[0mexecute_query\u001b[0m\u001b[0;34m(\u001b[0m\u001b[0mself\u001b[0m\u001b[0;34m.\u001b[0m\u001b[0mrules\u001b[0m\u001b[0;34m[\u001b[0m\u001b[0mi\u001b[0m\u001b[0;34m]\u001b[0m\u001b[0;34m[\u001b[0m\u001b[0;36m1\u001b[0m\u001b[0;34m]\u001b[0m\u001b[0;34m)\u001b[0m\u001b[0;34m\u001b[0m\u001b[0;34m\u001b[0m\u001b[0m\n\u001b[1;32m     20\u001b[0m                 \u001b[0mmss\u001b[0m\u001b[0;34m.\u001b[0m\u001b[0mupdate\u001b[0m\u001b[0;34m(\u001b[0m\u001b[0;34m[\u001b[0m\u001b[0;34m(\u001b[0m\u001b[0mself\u001b[0m\u001b[0;34m.\u001b[0m\u001b[0mrules\u001b[0m\u001b[0;34m[\u001b[0m\u001b[0mi\u001b[0m\u001b[0;34m]\u001b[0m\u001b[0;34m[\u001b[0m\u001b[0;36m0\u001b[0m\u001b[0;34m]\u001b[0m\u001b[0;34m,\u001b[0m \u001b[0mrow\u001b[0m\u001b[0;34m)\u001b[0m \u001b[0;32mfor\u001b[0m \u001b[0mrow\u001b[0m \u001b[0;32min\u001b[0m \u001b[0mresults\u001b[0m\u001b[0;34m]\u001b[0m\u001b[0;34m)\u001b[0m\u001b[0;34m\u001b[0m\u001b[0;34m\u001b[0m\u001b[0m\n\u001b[0;32m---> 21\u001b[0;31m                 \u001b[0mself\u001b[0m\u001b[0;34m.\u001b[0m\u001b[0mdb\u001b[0m\u001b[0;34m.\u001b[0m\u001b[0mdelta_update\u001b[0m\u001b[0;34m(\u001b[0m\u001b[0mself\u001b[0m\u001b[0;34m.\u001b[0m\u001b[0mrules\u001b[0m\u001b[0;34m[\u001b[0m\u001b[0mi\u001b[0m\u001b[0;34m]\u001b[0m\u001b[0;34m[\u001b[0m\u001b[0;36m0\u001b[0m\u001b[0;34m]\u001b[0m\u001b[0;34m,\u001b[0m \u001b[0mresults\u001b[0m\u001b[0;34m)\u001b[0m   \u001b[0;31m# update delta table in db\u001b[0m\u001b[0;34m\u001b[0m\u001b[0;34m\u001b[0m\u001b[0m\n\u001b[0m\u001b[1;32m     22\u001b[0m                 \u001b[0mself\u001b[0m\u001b[0;34m.\u001b[0m\u001b[0mdelta_tuples\u001b[0m\u001b[0;34m[\u001b[0m\u001b[0mself\u001b[0m\u001b[0;34m.\u001b[0m\u001b[0mrules\u001b[0m\u001b[0;34m[\u001b[0m\u001b[0mi\u001b[0m\u001b[0;34m]\u001b[0m\u001b[0;34m[\u001b[0m\u001b[0;36m0\u001b[0m\u001b[0;34m]\u001b[0m\u001b[0;34m]\u001b[0m\u001b[0;34m.\u001b[0m\u001b[0mupdate\u001b[0m\u001b[0;34m(\u001b[0m\u001b[0mresults\u001b[0m\u001b[0;34m)\u001b[0m\u001b[0;34m\u001b[0m\u001b[0;34m\u001b[0m\u001b[0m\n\u001b[1;32m     23\u001b[0m             \u001b[0mchanged\u001b[0m \u001b[0;34m=\u001b[0m \u001b[0mprev_len\u001b[0m \u001b[0;34m!=\u001b[0m \u001b[0mlen\u001b[0m\u001b[0;34m(\u001b[0m\u001b[0mmss\u001b[0m\u001b[0;34m)\u001b[0m\u001b[0;34m\u001b[0m\u001b[0;34m\u001b[0m\u001b[0m\n",
      "\u001b[0;32m~/Desktop/DataRepairAndFairness/On_Multiple_Semantics_for_Declarative_Database_Repairs/database_generator/dba.py\u001b[0m in \u001b[0;36mdelta_update\u001b[0;34m(self, name, rows)\u001b[0m\n\u001b[1;32m    172\u001b[0m         \u001b[0mrows_affected\u001b[0m \u001b[0;34m=\u001b[0m \u001b[0;36m0\u001b[0m\u001b[0;34m\u001b[0m\u001b[0;34m\u001b[0m\u001b[0m\n\u001b[1;32m    173\u001b[0m         \u001b[0;32mif\u001b[0m \u001b[0mlen\u001b[0m\u001b[0;34m(\u001b[0m\u001b[0mrows\u001b[0m\u001b[0;34m)\u001b[0m \u001b[0;34m>\u001b[0m \u001b[0;36m0\u001b[0m\u001b[0;34m:\u001b[0m\u001b[0;34m\u001b[0m\u001b[0;34m\u001b[0m\u001b[0m\n\u001b[0;32m--> 174\u001b[0;31m             \u001b[0mcursor\u001b[0m\u001b[0;34m.\u001b[0m\u001b[0mexecutemany\u001b[0m\u001b[0;34m(\u001b[0m\u001b[0msql_insert_query\u001b[0m\u001b[0;34m,\u001b[0m \u001b[0mrows\u001b[0m\u001b[0;34m)\u001b[0m\u001b[0;34m\u001b[0m\u001b[0;34m\u001b[0m\u001b[0m\n\u001b[0m\u001b[1;32m    175\u001b[0m             \u001b[0mrows_affected\u001b[0m \u001b[0;34m=\u001b[0m \u001b[0mcursor\u001b[0m\u001b[0;34m.\u001b[0m\u001b[0mrowcount\u001b[0m\u001b[0;34m\u001b[0m\u001b[0;34m\u001b[0m\u001b[0m\n\u001b[1;32m    176\u001b[0m             \u001b[0mself\u001b[0m\u001b[0;34m.\u001b[0m\u001b[0mconnection\u001b[0m\u001b[0;34m.\u001b[0m\u001b[0mcommit\u001b[0m\u001b[0;34m(\u001b[0m\u001b[0;34m)\u001b[0m\u001b[0;34m\u001b[0m\u001b[0;34m\u001b[0m\u001b[0m\n",
      "\u001b[0;32m~/opt/anaconda3/envs/hc36/lib/python3.6/encodings/utf_8.py\u001b[0m in \u001b[0;36mdecode\u001b[0;34m(input, errors)\u001b[0m\n\u001b[1;32m     13\u001b[0m \u001b[0mencode\u001b[0m \u001b[0;34m=\u001b[0m \u001b[0mcodecs\u001b[0m\u001b[0;34m.\u001b[0m\u001b[0mutf_8_encode\u001b[0m\u001b[0;34m\u001b[0m\u001b[0;34m\u001b[0m\u001b[0m\n\u001b[1;32m     14\u001b[0m \u001b[0;34m\u001b[0m\u001b[0m\n\u001b[0;32m---> 15\u001b[0;31m \u001b[0;32mdef\u001b[0m \u001b[0mdecode\u001b[0m\u001b[0;34m(\u001b[0m\u001b[0minput\u001b[0m\u001b[0;34m,\u001b[0m \u001b[0merrors\u001b[0m\u001b[0;34m=\u001b[0m\u001b[0;34m'strict'\u001b[0m\u001b[0;34m)\u001b[0m\u001b[0;34m:\u001b[0m\u001b[0;34m\u001b[0m\u001b[0;34m\u001b[0m\u001b[0m\n\u001b[0m\u001b[1;32m     16\u001b[0m     \u001b[0;32mreturn\u001b[0m \u001b[0mcodecs\u001b[0m\u001b[0;34m.\u001b[0m\u001b[0mutf_8_decode\u001b[0m\u001b[0;34m(\u001b[0m\u001b[0minput\u001b[0m\u001b[0;34m,\u001b[0m \u001b[0merrors\u001b[0m\u001b[0;34m,\u001b[0m \u001b[0;32mTrue\u001b[0m\u001b[0;34m)\u001b[0m\u001b[0;34m\u001b[0m\u001b[0;34m\u001b[0m\u001b[0m\n\u001b[1;32m     17\u001b[0m \u001b[0;34m\u001b[0m\u001b[0m\n",
      "\u001b[0;31mKeyboardInterrupt\u001b[0m: "
     ]
    }
   ],
   "source": [
    "import sys\n",
    "sys.path.append('On_Multiple_Semantics_for_Declarative_Database_Repairs/')\n",
    "import On_Multiple_Semantics_for_Declarative_Database_Repairs\n",
    "\n",
    "from database_generator.dba import DatabaseEngine\n",
    "from Semantics.end_sem import EndSemantics\n",
    "from Semantics.stage_sem import StageSemantics\n",
    "from Semantics.step_sem import StepSemantics\n",
    "from Semantics.independent_sem import IndependentSemantics\n",
    "\n",
    "# specify the schema\n",
    "mas_schema = {\"synthetic_data_version_1\": ('RAC1P',\n",
    "                                  'SEX',\n",
    "                                  'REGION',\n",
    "                                  'PINCP',\n",
    "                                  'ST',\n",
    "                                  'COW',\n",
    "                                  'CIT',\n",
    "                                  'NATIVITY',\n",
    "                                  'MSP',\n",
    "                                  'SCHL',\n",
    "                                  'DIS',\n",
    "                                  'MIL')\n",
    "              }\n",
    "\n",
    "\n",
    "def read_rules(rule_file):\n",
    "    \"\"\"read programs from txt file\"\"\"\n",
    "    all_programs = []\n",
    "    with open(rule_file) as f:\n",
    "        rules = []\n",
    "        for line in f:\n",
    "            if line.strip():\n",
    "                tbl, r = line.split(\"|\")\n",
    "                rules.append((tbl, r[:-2]))\n",
    "            else:\n",
    "                all_programs.append([r for r in rules])\n",
    "                rules = []\n",
    "        all_programs.append(rules)\n",
    "    return all_programs\n",
    "\n",
    "# load delta programs\n",
    "programs = read_rules(\"On_Multiple_Semantics_for_Declarative_Database_Repairs/../delta_program.txt\")\n",
    "\n",
    "# start the database\n",
    "db = DatabaseEngine(\"cr\")\n",
    "\n",
    "tbl_names = [\"synthetic_data_version_1\"]\n",
    "subfolder = \"/\"\n",
    "\n",
    "def database_reset(db):\n",
    "    \"\"\"reset the database\"\"\"\n",
    "    res = db.execute_query(\"select current_database();\")\n",
    "    db_name = res[0][0]\n",
    "    db.delete_tables(tbl_names)\n",
    "    # db.close_connection()\n",
    "    db = DatabaseEngine(db_name)\n",
    "    db.load_database_tables(tbl_names)\n",
    "\n",
    "# choose a delta program from the programs file\n",
    "rules = programs[0]\n",
    "print(\"delta program:\", rules)\n",
    "\n",
    "# reset the database between runs\n",
    "database_reset(db)\n",
    "\n",
    "end_sem = EndSemantics(db, rules, tbl_names)\n",
    "end_semantics_result = end_sem.find_mss()\n",
    "print(\"result for end semantics:\", end_semantics_result)\n",
    "\n",
    "# # reset the database between runs\n",
    "# database_reset(db)\n",
    "\n",
    "# stage_sem = StageSemantics(db, rules, tbl_names)\n",
    "# stage_semantics_result = stage_sem.find_mss()\n",
    "# print(\"result for stage semantics:\", stage_semantics_result)\n",
    "\n",
    "# # reset the database between runs\n",
    "# database_reset(db)\n",
    "\n",
    "# step_sem = StepSemantics(db, rules, tbl_names)\n",
    "# step_semantics_result = step_sem.find_mss(mas_schema)\n",
    "# print(\"result for step semantics:\", step_semantics_result)\n",
    "\n",
    "# reset the database between runs\n",
    "# database_reset(db)\n",
    "\n",
    "# ind_sem = IndependentSemantics(db, rules, tbl_names)\n",
    "# ind_semantics_result = ind_sem.find_mss(mas_schema)\n",
    "# print(\"result for independent semantics:\", ind_semantics_result)\n"
   ]
  },
  {
   "cell_type": "code",
   "execution_count": null,
   "id": "0a188b1a",
   "metadata": {},
   "outputs": [],
   "source": []
  }
 ],
 "metadata": {
  "kernelspec": {
   "display_name": "hc36",
   "language": "python",
   "name": "hc36"
  },
  "language_info": {
   "codemirror_mode": {
    "name": "ipython",
    "version": 3
   },
   "file_extension": ".py",
   "mimetype": "text/x-python",
   "name": "python",
   "nbconvert_exporter": "python",
   "pygments_lexer": "ipython3",
   "version": "3.6.13"
  }
 },
 "nbformat": 4,
 "nbformat_minor": 5
}
