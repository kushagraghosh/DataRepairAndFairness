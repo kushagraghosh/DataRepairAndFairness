{
 "cells": [
  {
   "cell_type": "code",
   "execution_count": 1,
   "id": "4b14d0a7",
   "metadata": {
    "scrolled": false
   },
   "outputs": [
    {
     "name": "stdout",
     "output_type": "stream",
     "text": [
      "delta program: [('synthetic_data_version_1', 'SELECT synthetic_data_version_11.* FROM synthetic_data_version_1 AS synthetic_data_version_11, synthetic_data_version_1 AS synthetic_data_version_12 WHERE synthetic_data_version_11.ST = synthetic_data_version_12.ST AND synthetic_data_version_11.REGION <> synthetic_data_version_12.REGION')]\n"
     ]
    },
    {
     "ename": "NameError",
     "evalue": "name 'db_name' is not defined",
     "output_type": "error",
     "traceback": [
      "\u001b[0;31m---------------------------------------------------------------------------\u001b[0m",
      "\u001b[0;31mNameError\u001b[0m                                 Traceback (most recent call last)",
      "Cell \u001b[0;32mIn[1], line 71\u001b[0m\n\u001b[1;32m     68\u001b[0m database_reset(db)\n\u001b[1;32m     70\u001b[0m step_sem \u001b[38;5;241m=\u001b[39m StepSemantics(db, rules, tbl_names)\n\u001b[0;32m---> 71\u001b[0m step_semantics_result \u001b[38;5;241m=\u001b[39m \u001b[43mstep_sem\u001b[49m\u001b[38;5;241;43m.\u001b[39;49m\u001b[43mfind_mss\u001b[49m\u001b[43m(\u001b[49m\u001b[43mmas_schema\u001b[49m\u001b[43m)\u001b[49m\n\u001b[1;32m     72\u001b[0m \u001b[38;5;28mprint\u001b[39m(\u001b[38;5;124m\"\u001b[39m\u001b[38;5;124mresult for step semantics:\u001b[39m\u001b[38;5;124m\"\u001b[39m, step_semantics_result)\n",
      "File \u001b[0;32m~/Desktop/DataRepairAndFairness/On_Multiple_Semantics_for_Declarative_Database_Repairs/Semantics/step_sem.py:46\u001b[0m, in \u001b[0;36mStepSemantics.find_mss\u001b[0;34m(self, schema, suffix)\u001b[0m\n\u001b[1;32m     42\u001b[0m mss \u001b[38;5;241m=\u001b[39m \u001b[38;5;28mself\u001b[39m\u001b[38;5;241m.\u001b[39mtraverse_by_layer(prov_dict)\n\u001b[1;32m     44\u001b[0m \u001b[38;5;66;03m# Write function for each tuple in the set, to remove that tuple from the table.\u001b[39;00m\n\u001b[1;32m     45\u001b[0m \u001b[38;5;66;03m# update original tables at the end of the evaluation\u001b[39;00m\n\u001b[0;32m---> 46\u001b[0m \u001b[38;5;28;43mself\u001b[39;49m\u001b[38;5;241;43m.\u001b[39;49m\u001b[43mdelete_tuple\u001b[49m\u001b[43m(\u001b[49m\u001b[43m[\u001b[49m\u001b[43mtup\u001b[49m\u001b[43m[\u001b[49m\u001b[38;5;241;43m1\u001b[39;49m\u001b[43m]\u001b[49m\u001b[43m \u001b[49m\u001b[38;5;28;43;01mfor\u001b[39;49;00m\u001b[43m \u001b[49m\u001b[43mtup\u001b[49m\u001b[43m \u001b[49m\u001b[38;5;129;43;01min\u001b[39;49;00m\u001b[43m \u001b[49m\u001b[43mmss\u001b[49m\u001b[43m]\u001b[49m\u001b[43m)\u001b[49m\n\u001b[1;32m     48\u001b[0m \u001b[38;5;28;01mreturn\u001b[39;00m mss\n",
      "File \u001b[0;32m~/Desktop/DataRepairAndFairness/On_Multiple_Semantics_for_Declarative_Database_Repairs/Semantics/step_sem.py:51\u001b[0m, in \u001b[0;36mStepSemantics.delete_tuple\u001b[0;34m(self, tuples)\u001b[0m\n\u001b[1;32m     50\u001b[0m \u001b[38;5;28;01mdef\u001b[39;00m \u001b[38;5;21mdelete_tuple\u001b[39m(\u001b[38;5;28mself\u001b[39m, tuples):\n\u001b[0;32m---> 51\u001b[0m     conn \u001b[38;5;241m=\u001b[39m psycopg2\u001b[38;5;241m.\u001b[39mconnect(user \u001b[38;5;241m=\u001b[39m \u001b[38;5;124m\"\u001b[39m\u001b[38;5;124mpostgres\u001b[39m\u001b[38;5;124m\"\u001b[39m, password \u001b[38;5;241m=\u001b[39m \u001b[38;5;124m\"\u001b[39m\u001b[38;5;124mpostgres\u001b[39m\u001b[38;5;124m\"\u001b[39m, host \u001b[38;5;241m=\u001b[39m \u001b[38;5;124m\"\u001b[39m\u001b[38;5;124m127.0.0.1\u001b[39m\u001b[38;5;124m\"\u001b[39m,  port \u001b[38;5;241m=\u001b[39m \u001b[38;5;124m\"\u001b[39m\u001b[38;5;124m5432\u001b[39m\u001b[38;5;124m\"\u001b[39m, database \u001b[38;5;241m=\u001b[39m \u001b[43mdb_name\u001b[49m)\n\u001b[1;32m     52\u001b[0m     cur \u001b[38;5;241m=\u001b[39m conn\u001b[38;5;241m.\u001b[39mcursor()\n\u001b[1;32m     53\u001b[0m     sql \u001b[38;5;241m=\u001b[39m \u001b[38;5;124m\"\u001b[39m\u001b[38;5;124mDELETE FROM synthetic_data_version_1 WHERE rac1p = \u001b[39m\u001b[38;5;132;01m%s\u001b[39;00m\u001b[38;5;124m AND sex = \u001b[39m\u001b[38;5;132;01m%s\u001b[39;00m\u001b[38;5;124m AND region = \u001b[39m\u001b[38;5;132;01m%s\u001b[39;00m\u001b[38;5;124m AND pincp = \u001b[39m\u001b[38;5;132;01m%s\u001b[39;00m\u001b[38;5;124m AND st = \u001b[39m\u001b[38;5;132;01m%s\u001b[39;00m\u001b[38;5;124m AND cow = \u001b[39m\u001b[38;5;132;01m%s\u001b[39;00m\u001b[38;5;124m AND cit = \u001b[39m\u001b[38;5;132;01m%s\u001b[39;00m\u001b[38;5;124m AND nativity = \u001b[39m\u001b[38;5;132;01m%s\u001b[39;00m\u001b[38;5;124m AND msp = \u001b[39m\u001b[38;5;132;01m%s\u001b[39;00m\u001b[38;5;124m AND schl = \u001b[39m\u001b[38;5;132;01m%s\u001b[39;00m\u001b[38;5;124m AND dis = \u001b[39m\u001b[38;5;132;01m%s\u001b[39;00m\u001b[38;5;124m AND mil = \u001b[39m\u001b[38;5;132;01m%s\u001b[39;00m\u001b[38;5;124m;\u001b[39m\u001b[38;5;124m\"\u001b[39m\n",
      "\u001b[0;31mNameError\u001b[0m: name 'db_name' is not defined"
     ]
    }
   ],
   "source": [
    "import sys\n",
    "sys.path.append('On_Multiple_Semantics_for_Declarative_Database_Repairs/')\n",
    "import On_Multiple_Semantics_for_Declarative_Database_Repairs\n",
    "\n",
    "from database_generator.dba import DatabaseEngine\n",
    "from Semantics.end_sem import EndSemantics\n",
    "from Semantics.stage_sem import StageSemantics\n",
    "from Semantics.step_sem import StepSemantics\n",
    "from Semantics.independent_sem import IndependentSemantics\n",
    "\n",
    "# specify the schema\n",
    "mas_schema = {\"synthetic_data_version_1\": ('RAC1P', 'SEX', 'REGION', 'PINCP', 'ST', 'COW', 'CIT', 'NATIVITY', 'MSP', 'SCHL', 'DIS','MIL')\n",
    "              }\n",
    "\n",
    "\n",
    "def read_rules(rule_file):\n",
    "    \"\"\"read programs from txt file\"\"\"\n",
    "    all_programs = []\n",
    "    with open(rule_file) as f:\n",
    "        rules = []\n",
    "        for line in f:\n",
    "            if line.strip():\n",
    "                tbl, r = line.split(\"|\")\n",
    "                rules.append((tbl, r[:-2]))\n",
    "            else:\n",
    "                all_programs.append([r for r in rules])\n",
    "                rules = []\n",
    "        all_programs.append(rules)\n",
    "    return all_programs\n",
    "\n",
    "# load delta programs\n",
    "programs = read_rules(\"On_Multiple_Semantics_for_Declarative_Database_Repairs/../delta_program.txt\")\n",
    "\n",
    "# start the database\n",
    "db = DatabaseEngine(\"cr\")\n",
    "\n",
    "tbl_names = [\"synthetic_data_version_1\"]\n",
    "subfolder = \"/\"\n",
    "\n",
    "def database_reset(db):\n",
    "    \"\"\"reset the database\"\"\"\n",
    "    res = db.execute_query(\"select current_database();\")\n",
    "    db_name = res[0][0]\n",
    "    db.delete_tables(tbl_names)\n",
    "    # db.close_connection()\n",
    "    db = DatabaseEngine(db_name)\n",
    "    db.load_database_tables(tbl_names)\n",
    "\n",
    "# choose a delta program from the programs file\n",
    "rules = programs[0]\n",
    "print(\"delta program:\", rules)\n",
    "\n",
    "# # reset the database between runs\n",
    "# database_reset(db)\n",
    "\n",
    "# end_sem = EndSemantics(db, rules, tbl_names)\n",
    "# end_semantics_result = end_sem.find_mss()\n",
    "# print(\"result for end semantics:\", end_semantics_result)\n",
    "\n",
    "# # reset the database between runs\n",
    "# database_reset(db)\n",
    "\n",
    "# stage_sem = StageSemantics(db, rules, tbl_names)\n",
    "# stage_semantics_result = stage_sem.find_mss()\n",
    "# print(\"result for stage semantics:\", stage_semantics_result)\n",
    "\n",
    "# reset the database between runs\n",
    "database_reset(db)\n",
    "\n",
    "step_sem = StepSemantics(db, rules, tbl_names)\n",
    "step_semantics_result = step_sem.find_mss(mas_schema)\n",
    "print(\"result for step semantics:\", step_semantics_result)\n",
    "\n",
    "# reset the database between runs\n",
    "# database_reset(db)\n",
    "\n",
    "# ind_sem = IndependentSemantics(db, rules, tbl_names)\n",
    "# ind_semantics_result = ind_sem.find_mss(mas_schema)\n",
    "# print(\"result for independent semantics:\", ind_semantics_result)\n"
   ]
  },
  {
   "cell_type": "code",
   "execution_count": null,
   "id": "9e7f92f4",
   "metadata": {},
   "outputs": [],
   "source": [
    "len(step_semantics_result)"
   ]
  },
  {
   "cell_type": "code",
   "execution_count": null,
   "id": "8e46af15",
   "metadata": {},
   "outputs": [],
   "source": []
  }
 ],
 "metadata": {
  "kernelspec": {
   "display_name": "Python 3 (ipykernel)",
   "language": "python",
   "name": "python3"
  },
  "language_info": {
   "codemirror_mode": {
    "name": "ipython",
    "version": 3
   },
   "file_extension": ".py",
   "mimetype": "text/x-python",
   "name": "python",
   "nbconvert_exporter": "python",
   "pygments_lexer": "ipython3",
   "version": "3.8.11"
  }
 },
 "nbformat": 4,
 "nbformat_minor": 5
}
